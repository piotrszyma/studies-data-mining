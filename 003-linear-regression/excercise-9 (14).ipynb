{
 "cells": [
  {
   "cell_type": "code",
   "execution_count": 2,
   "metadata": {},
   "outputs": [],
   "source": [
    "import numpy as np\n",
    "import pandas as pd\n",
    "import seaborn as sns\n",
    "import statsmodels.formula.api as smf"
   ]
  },
  {
   "cell_type": "code",
   "execution_count": 3,
   "metadata": {},
   "outputs": [],
   "source": [
    "def print_analysis(model):\n",
    "    print()\n",
    "    print('=' * 20)\n",
    "    print('Params:')\n",
    "    print(model.params)\n",
    "    print()\n",
    "    print('p-values:')\n",
    "    print(model.pvalues)\n",
    "    print('=' * 20)"
   ]
  },
  {
   "cell_type": "code",
   "execution_count": 4,
   "metadata": {},
   "outputs": [],
   "source": [
    "# 14 (a)\n",
    "\n",
    "np.random.seed(1)\n",
    "x1 = np.random.uniform(size=100)\n",
    "x2 = 0.5*x1 + np.random.randn(100)/10\n",
    "y  = 2 + 2*x1 + 0.3*x2 + np.random.randn(100)"
   ]
  },
  {
   "cell_type": "markdown",
   "metadata": {},
   "source": [
    "$$ y = b_0 + b_1 x_1 + b_2 x_2 + \\epsilon $$\n",
    "\n",
    "$$ b_0 = 2 $$\n",
    "$$ b_1 = 2 $$\n",
    "$$ b_2 = 0.3 $$"
   ]
  },
  {
   "cell_type": "code",
   "execution_count": 5,
   "metadata": {},
   "outputs": [
    {
     "data": {
      "image/png": "[encoded data removed]",
      "text/plain": [
       "<Figure size 432x288 with 1 Axes>"
      ]
     },
     "metadata": {
      "needs_background": "light"
     },
     "output_type": "display_data"
    }
   ],
   "source": [
    "# 14 (b)\n",
    "\n",
    "sns.scatterplot(x=x1, y=x2);\n"
   ]
  },
  {
   "cell_type": "markdown",
   "metadata": {},
   "source": [
    "There might be linear relationship here"
   ]
  },
  {
   "cell_type": "code",
   "execution_count": 6,
   "metadata": {
    "scrolled": false
   },
   "outputs": [
    {
     "name": "stdout",
     "output_type": "stream",
     "text": [
      "\n",
      "====================\n",
      "Params:\n",
      "Intercept    2.189284\n",
      "x1           0.704629\n",
      "x2           2.502405\n",
      "dtype: float64\n",
      "\n",
      "p-values:\n",
      "Intercept    8.532403e-19\n",
      "x1           2.712146e-01\n",
      "x2           3.060418e-02\n",
      "dtype: float64\n",
      "====================\n"
     ]
    }
   ],
   "source": [
    "# 14 (c)\n",
    "\n",
    "df = pd.DataFrame({'y': y, 'x1': x1, 'x2': x2})\n",
    "model = smf.ols(formula='y ~ x1 + x2', data=df).fit()\n",
    "print_analysis(model)"
   ]
  },
  {
   "cell_type": "markdown",
   "metadata": {},
   "source": [
    "$$ b_0 = 2, b_0' = 2.19, p_{b_0'} =  8.5e-19 $$\n",
    "$$ b_1 = 2, b_1' = 0.7, p_{b_1'} =  0.27 $$\n",
    "$$ b_2 = 0.3, b_2' = 2.5, p_{b_2'} =  0.03 $$\n",
    "\n",
    "I cannot reject null hypothesis for $b_1'$ as p-value = 0.27 > 0.05, however I can reject null hypothesis for $b_2'$ as p-value = 0.03 < 0.05.\n"
   ]
  },
  {
   "cell_type": "code",
   "execution_count": 7,
   "metadata": {},
   "outputs": [
    {
     "name": "stdout",
     "output_type": "stream",
     "text": [
      "\n",
      "====================\n",
      "Params:\n",
      "Intercept    2.248581\n",
      "x1           1.876987\n",
      "dtype: float64\n",
      "\n",
      "p-values:\n",
      "Intercept    2.942644e-19\n",
      "x1           6.683125e-07\n",
      "dtype: float64\n",
      "====================\n"
     ]
    }
   ],
   "source": [
    "# 14 (d)\n",
    "\n",
    "df = pd.DataFrame({'y': y, 'x1': x1, 'x2': x2})\n",
    "model = smf.ols(formula='y ~ x1', data=df).fit()\n",
    "print_analysis(model)\n"
   ]
  },
  {
   "cell_type": "markdown",
   "metadata": {},
   "source": [
    "$$ b_0 = 2, b_0' = 2.25, p_{b_0'} =  2.94e-19 $$\n",
    "$$ b_1 = 2, b_1' = 1.88, p_{b_1'} =  6.68e-07 $$\n",
    "\n",
    "I can reject null hypothesis for $b_1'$ as p-value << 0.05.\n"
   ]
  },
  {
   "cell_type": "code",
   "execution_count": 8,
   "metadata": {
    "scrolled": true
   },
   "outputs": [
    {
     "name": "stdout",
     "output_type": "stream",
     "text": [
      "\n",
      "====================\n",
      "Params:\n",
      "Intercept    2.265526\n",
      "x2           3.561276\n",
      "dtype: float64\n",
      "\n",
      "p-values:\n",
      "Intercept    2.952030e-21\n",
      "x2           1.090964e-07\n",
      "dtype: float64\n",
      "====================\n"
     ]
    }
   ],
   "source": [
    "# 14 (e)\n",
    "\n",
    "df = pd.DataFrame({'y': y, 'x1': x1, 'x2': x2})\n",
    "model = smf.ols(formula='y ~ x2', data=df).fit()\n",
    "print_analysis(model)"
   ]
  },
  {
   "cell_type": "markdown",
   "metadata": {},
   "source": [
    "$$ b_0 = 2, b_0' = 2.25, p_{b_0'} =  2.952030e-21 $$\n",
    "$$ b_2 = 0.3, b_2' = 3.56, p_{b_2'} =  1.090964e-07 $$\n",
    "\n",
    "I can reject null hypothesis for $b_2'$ as p-value << 0.05."
   ]
  },
  {
   "cell_type": "code",
   "execution_count": 9,
   "metadata": {},
   "outputs": [],
   "source": [
    "# 14 (f)\n",
    "\n",
    "# in (c) cannot reject null for b1, can for b2\n",
    "# in (d) can reject null for b1\n",
    "# in (e) can reject null for b2\n",
    "\n",
    "# b1 & b2 are correlated and they mask each other results\n"
   ]
  },
  {
   "cell_type": "markdown",
   "metadata": {},
   "source": [
    "Results are results"
   ]
  },
  {
   "cell_type": "code",
   "execution_count": 13,
   "metadata": {},
   "outputs": [],
   "source": [
    "# 14 (g)\n",
    "\n",
    "df2 = df.append({'x1': 0.1, 'x2': 0.8, 'y': 6}, ignore_index=True)\n",
    "# Fit models\n",
    "model_c = smf.ols(formula='y ~ x1 + x2', data=df2).fit()\n",
    "model_d = smf.ols(formula='y ~ x1', data=df2).fit()\n",
    "model_e = smf.ols(formula='y ~ x2', data=df2).fit()"
   ]
  },
  {
   "cell_type": "code",
   "execution_count": 14,
   "metadata": {},
   "outputs": [
    {
     "data": {
      "image/png": "[encoded data removed]",
      "text/plain": [
       "<Figure size 432x288 with 1 Axes>"
      ]
     },
     "metadata": {
      "needs_background": "light"
     },
     "output_type": "display_data"
    }
   ],
   "source": [
    "sns.scatterplot(x=df['x2'], y=df['x1']);"
   ]
  },
  {
   "cell_type": "code",
   "execution_count": 12,
   "metadata": {},
   "outputs": [
    {
     "data": {
      "image/png": "[encoded data removed]",
      "text/plain": [
       "<Figure size 432x288 with 1 Axes>"
      ]
     },
     "metadata": {
      "needs_background": "light"
     },
     "output_type": "display_data"
    }
   ],
   "source": [
    "sns.scatterplot(x=df2['x2'], y=df2['x1']);"
   ]
  },
  {
   "cell_type": "code",
   "execution_count": 11,
   "metadata": {},
   "outputs": [
    {
     "name": "stdout",
     "output_type": "stream",
     "text": [
      "\n",
      "====================\n",
      "Params:\n",
      "Intercept    2.199575\n",
      "x1           0.220026\n",
      "x2           3.439188\n",
      "dtype: float64\n",
      "\n",
      "p-values:\n",
      "Intercept    6.778773e-19\n",
      "x1           6.732535e-01\n",
      "x2           2.054951e-04\n",
      "dtype: float64\n",
      "====================\n",
      "\n",
      "====================\n",
      "Params:\n",
      "Intercept    2.358326\n",
      "x1           1.722523\n",
      "dtype: float64\n",
      "\n",
      "p-values:\n",
      "Intercept    1.407481e-19\n",
      "x1           9.151627e-06\n",
      "dtype: float64\n",
      "====================\n",
      "\n",
      "====================\n",
      "Params:\n",
      "Intercept    2.233127\n",
      "x2           3.721606\n",
      "dtype: float64\n",
      "\n",
      "p-values:\n",
      "Intercept    1.358505e-21\n",
      "x2           7.406825e-09\n",
      "dtype: float64\n",
      "====================\n"
     ]
    }
   ],
   "source": [
    "# model_c.summary()\n",
    "print_analysis(model_c)\n",
    "print_analysis(model_d)\n",
    "print_analysis(model_e)"
   ]
  }
 ],
 "metadata": {
  "kernelspec": {
   "display_name": "Python 3",
   "language": "python",
   "name": "python3"
  },
  "language_info": {
   "codemirror_mode": {
    "name": "ipython",
    "version": 3
   },
   "file_extension": ".py",
   "mimetype": "text/x-python",
   "name": "python",
   "nbconvert_exporter": "python",
   "pygments_lexer": "ipython3",
   "version": "3.7.5"
  }
 },
 "nbformat": 4,
 "nbformat_minor": 2
}
