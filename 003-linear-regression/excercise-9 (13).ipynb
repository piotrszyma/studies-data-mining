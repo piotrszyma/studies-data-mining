{
 "cells": [
  {
   "cell_type": "code",
   "execution_count": 1,
   "metadata": {},
   "outputs": [],
   "source": [
    "# TODO: \n",
    "# 13 (j)\n",
    "# \n",
    "# "
   ]
  },
  {
   "cell_type": "code",
   "execution_count": 2,
   "metadata": {},
   "outputs": [],
   "source": [
    "import pandas as pd\n",
    "import numpy as np\n",
    "import matplotlib.pyplot as plt\n",
    "from sklearn.linear_model import LinearRegression\n",
    "import statsmodels.formula.api as smf\n",
    "import statsmodels.api as sm\n",
    "import seaborn as sns\n",
    "\n",
    "%matplotlib inline\n"
   ]
  },
  {
   "cell_type": "code",
   "execution_count": 3,
   "metadata": {},
   "outputs": [
    {
     "data": {
      "text/plain": [
       "(11.173260452749581, 100)"
      ]
     },
     "execution_count": 3,
     "metadata": {},
     "output_type": "execute_result"
    }
   ],
   "source": [
    "# Excercise 13\n",
    "\n",
    "np.random.seed(1)\n",
    "\n",
    "# 13 (a)\n",
    "# N(0, 1)\n",
    "# N(mu, sigma^2)\n",
    "\n",
    "sigma = 1\n",
    "mu = 0\n",
    "x = sigma * np.random.randn(100) + mu\n",
    "\n",
    "# 13 (b)\n",
    "# N(0, 0.25)\n",
    "# N(mu, sigma^2)\n",
    "\n",
    "sigma = 0.5\n",
    "mu = 0\n",
    "eps = sigma * np.random.randn(100) + mu\n",
    "\n",
    "# 13 (c)\n",
    "B_0 = -1\n",
    "B_1 = 0.5\n",
    "\n",
    "y = -1 + 0.5 * x + eps\n",
    "\n",
    "# B_0 = -1\n",
    "# B_1 = 0.5\n",
    "# Vector len = 100\n",
    "\n",
    "# 13 (d)\n",
    "np.linalg.norm(y), len(y)"
   ]
  },
  {
   "cell_type": "code",
   "execution_count": 4,
   "metadata": {},
   "outputs": [
    {
     "data": {
      "image/png": "[encoded data removed]",
      "text/plain": [
       "<Figure size 432x288 with 1 Axes>"
      ]
     },
     "metadata": {
      "needs_background": "light"
     },
     "output_type": "display_data"
    }
   ],
   "source": [
    "# 13 (d)\n",
    "ax = sns.scatterplot(x=x, y=y)\n",
    "plt.xlabel('x')\n",
    "plt.ylabel('y');"
   ]
  },
  {
   "cell_type": "code",
   "execution_count": null,
   "metadata": {},
   "outputs": [],
   "source": []
  },
  {
   "cell_type": "code",
   "execution_count": 5,
   "metadata": {},
   "outputs": [
    {
     "data": {
      "text/html": [
       "<div>\n",
       "<style scoped>\n",
       "    .dataframe tbody tr th:only-of-type {\n",
       "        vertical-align: middle;\n",
       "    }\n",
       "\n",
       "    .dataframe tbody tr th {\n",
       "        vertical-align: top;\n",
       "    }\n",
       "\n",
       "    .dataframe thead th {\n",
       "        text-align: right;\n",
       "    }\n",
       "</style>\n",
       "<table border=\"1\" class=\"dataframe\">\n",
       "  <thead>\n",
       "    <tr style=\"text-align: right;\">\n",
       "      <th></th>\n",
       "      <th>x</th>\n",
       "      <th>y</th>\n",
       "    </tr>\n",
       "  </thead>\n",
       "  <tbody>\n",
       "    <tr>\n",
       "      <th>x</th>\n",
       "      <td>1.000000</td>\n",
       "      <td>0.722384</td>\n",
       "    </tr>\n",
       "    <tr>\n",
       "      <th>y</th>\n",
       "      <td>0.722384</td>\n",
       "      <td>1.000000</td>\n",
       "    </tr>\n",
       "  </tbody>\n",
       "</table>\n",
       "</div>"
      ],
      "text/plain": [
       "          x         y\n",
       "x  1.000000  0.722384\n",
       "y  0.722384  1.000000"
      ]
     },
     "execution_count": 5,
     "metadata": {},
     "output_type": "execute_result"
    }
   ],
   "source": [
    "pd.DataFrame({'x':x, 'y': y}).corr()"
   ]
  },
  {
   "cell_type": "code",
   "execution_count": 6,
   "metadata": {},
   "outputs": [],
   "source": [
    "# 13 (e)\n",
    "\n",
    "model = sm.OLS.from_formula('y ~ x', data=pd.DataFrame({'x':x, 'y': y})).fit()\n",
    "model_base = model\n",
    "model.summary()\n"
   ]
  },
  {
   "cell_type": "code",
   "execution_count": 7,
   "metadata": {},
   "outputs": [],
   "source": [
    "B_0 = -0.9265\n",
    "b_1 = 0.4502\n",
    "\n",
    "# The model estimates parameters close to the true values. "
   ]
  },
  {
   "cell_type": "code",
   "execution_count": 8,
   "metadata": {
    "scrolled": false
   },
   "outputs": [
    {
     "data": {
      "image/png": "[encoded data removed]",
      "text/plain": [
       "<Figure size 576x576 with 1 Axes>"
      ]
     },
     "metadata": {
      "needs_background": "light"
     },
     "output_type": "display_data"
    }
   ],
   "source": [
    "# 13 (f)\n",
    "\n",
    "plt.figure(figsize=(8,8))\n",
    "ax = sns.scatterplot(x=x, y=y, color='b')\n",
    "plt.xlabel('x')\n",
    "plt.ylabel('y')\n",
    "ax.plot(x, model.predict(), color='r')\n",
    "ax.plot(x, -1+(0.5*x), color='g')\n",
    "ax.legend(['pred', 'regression']);"
   ]
  },
  {
   "cell_type": "code",
   "execution_count": 9,
   "metadata": {},
   "outputs": [
    {
     "name": "stdout",
     "output_type": "stream",
     "text": [
      "                            OLS Regression Results                            \n",
      "==============================================================================\n",
      "Dep. Variable:                      y   R-squared:                       0.522\n",
      "Model:                            OLS   Adj. R-squared:                  0.512\n",
      "Method:                 Least Squares   F-statistic:                     52.96\n",
      "Date:                Wed, 06 Nov 2019   Prob (F-statistic):           2.83e-16\n",
      "Time:                        19:29:03   Log-Likelihood:                -65.107\n",
      "No. Observations:                 100   AIC:                             136.2\n",
      "Df Residuals:                      97   BIC:                             144.0\n",
      "Df Model:                           2                                         \n",
      "Covariance Type:            nonrobust                                         \n",
      "================================================================================\n",
      "                   coef    std err          t      P>|t|      [0.025      0.975]\n",
      "--------------------------------------------------------------------------------\n",
      "Intercept       -0.9325      0.058    -16.158      0.000      -1.047      -0.818\n",
      "x                0.5468      0.053     10.229      0.000       0.441       0.653\n",
      "np.square(x)     0.0077      0.043      0.181      0.856      -0.077       0.092\n",
      "==============================================================================\n",
      "Omnibus:                        0.893   Durbin-Watson:                   2.152\n",
      "Prob(Omnibus):                  0.640   Jarque-Bera (JB):                0.552\n",
      "Skew:                          -0.170   Prob(JB):                        0.759\n",
      "Kurtosis:                       3.132   Cond. No.                         2.10\n",
      "==============================================================================\n",
      "\n",
      "Warnings:\n",
      "[1] Standard Errors assume that the covariance matrix of the errors is correctly specified.\n"
     ]
    },
    {
     "data": {
      "image/png": "[encoded data removed]",
      "text/plain": [
       "<Figure size 576x576 with 1 Axes>"
      ]
     },
     "metadata": {
      "needs_background": "light"
     },
     "output_type": "display_data"
    }
   ],
   "source": [
    "# 13 (g)\n",
    "\n",
    "model = smf.ols(formula='y ~ x + np.square(x)', data=pd.DataFrame({'x':x, 'y': y})).fit()\n",
    "plt.figure(figsize=(8,8))\n",
    "ax = sns.scatterplot(x=x, y=y, color='b')\n",
    "plt.xlabel('x')\n",
    "plt.ylabel('y')\n",
    "ax.plot(x, model.predict(), 'ro')\n",
    "ax.plot(x, -1+(0.5*x), color='g')\n",
    "print(model.summary())\n",
    "ax.legend(['pred', 'regression']);"
   ]
  },
  {
   "cell_type": "markdown",
   "metadata": {},
   "source": [
    "\n",
    "The model selects a small coefficient for the quadratic variable and so the fit of our model is only slightly affected. The p-value > 0.05 for this variable suggests that it is not statistically significant in representing our data. The R-squared value is identical for both models suggesting that the quadratic model hasn't reduced the error of our model in fitting the data.\n",
    "\n",
    "Overall the quadratic term x does not seem to have improved our model.\n"
   ]
  },
  {
   "cell_type": "code",
   "execution_count": 10,
   "metadata": {},
   "outputs": [
    {
     "name": "stdout",
     "output_type": "stream",
     "text": [
      "                            OLS Regression Results                            \n",
      "==============================================================================\n",
      "Dep. Variable:                      y   R-squared:                       0.444\n",
      "Model:                            OLS   Adj. R-squared:                  0.438\n",
      "Method:                 Least Squares   F-statistic:                     78.10\n",
      "Date:                Wed, 06 Nov 2019   Prob (F-statistic):           4.02e-14\n",
      "Time:                        19:29:03   Log-Likelihood:                -78.683\n",
      "No. Observations:                 100   AIC:                             161.4\n",
      "Df Residuals:                      98   BIC:                             166.6\n",
      "Df Model:                           1                                         \n",
      "Covariance Type:            nonrobust                                         \n",
      "==============================================================================\n",
      "                 coef    std err          t      P>|t|      [0.025      0.975]\n",
      "------------------------------------------------------------------------------\n",
      "Intercept     -1.0099      0.054    -18.810      0.000      -1.116      -0.903\n",
      "x              0.4721      0.053      8.837      0.000       0.366       0.578\n",
      "==============================================================================\n",
      "Omnibus:                        0.426   Durbin-Watson:                   1.977\n",
      "Prob(Omnibus):                  0.808   Jarque-Bera (JB):                0.121\n",
      "Skew:                          -0.045   Prob(JB):                        0.941\n",
      "Kurtosis:                       3.145   Cond. No.                         1.01\n",
      "==============================================================================\n",
      "\n",
      "Warnings:\n",
      "[1] Standard Errors assume that the covariance matrix of the errors is correctly specified.\n"
     ]
    },
    {
     "data": {
      "image/png": "[encoded data removed]",
      "text/plain": [
       "<Figure size 576x576 with 1 Axes>"
      ]
     },
     "metadata": {
      "needs_background": "light"
     },
     "output_type": "display_data"
    }
   ],
   "source": [
    "# 13 (h)\n",
    "\n",
    "# prepare x\n",
    "sigma = 1\n",
    "mu = 0\n",
    "x = sigma * np.random.randn(100) + mu\n",
    "\n",
    "# prepare eps\n",
    "sigma = 0.5\n",
    "mu = 0 # eps\n",
    "eps = sigma * np.random.randn(100) + mu\n",
    "\n",
    "# calc y\n",
    "y = -1 + 0.5 * x + eps\n",
    "\n",
    "# LR\n",
    "model = smf.ols(formula='y ~ x', data=pd.DataFrame({'x':x, 'y':y})).fit()\n",
    "model_less = model\n",
    "print(model.summary())\n",
    "\n",
    "# plot\n",
    "plt.figure(figsize=(8,8))\n",
    "ax = sns.scatterplot(x=x, y=y)\n",
    "plt.xlabel('x')\n",
    "plt.ylabel('y')\n",
    "ax.plot(x, model.predict(), color='r')\n",
    "ax.plot(x, -1+(0.5*x), color='y')\n",
    "ax.legend(['Least squares', 'Population regression']);"
   ]
  },
  {
   "cell_type": "code",
   "execution_count": null,
   "metadata": {},
   "outputs": [],
   "source": []
  },
  {
   "cell_type": "code",
   "execution_count": 11,
   "metadata": {},
   "outputs": [
    {
     "name": "stdout",
     "output_type": "stream",
     "text": [
      "                            OLS Regression Results                            \n",
      "==============================================================================\n",
      "Dep. Variable:                      y   R-squared:                       0.257\n",
      "Model:                            OLS   Adj. R-squared:                  0.250\n",
      "Method:                 Least Squares   F-statistic:                     33.96\n",
      "Date:                Wed, 06 Nov 2019   Prob (F-statistic):           7.19e-08\n",
      "Time:                        19:29:04   Log-Likelihood:                -145.66\n",
      "No. Observations:                 100   AIC:                             295.3\n",
      "Df Residuals:                      98   BIC:                             300.5\n",
      "Df Model:                           1                                         \n",
      "Covariance Type:            nonrobust                                         \n",
      "==============================================================================\n",
      "                 coef    std err          t      P>|t|      [0.025      0.975]\n",
      "------------------------------------------------------------------------------\n",
      "Intercept     -0.8802      0.105     -8.375      0.000      -1.089      -0.672\n",
      "x              0.5903      0.101      5.828      0.000       0.389       0.791\n",
      "==============================================================================\n",
      "Omnibus:                        3.633   Durbin-Watson:                   1.972\n",
      "Prob(Omnibus):                  0.163   Jarque-Bera (JB):                3.566\n",
      "Skew:                           0.192   Prob(JB):                        0.168\n",
      "Kurtosis:                       3.842   Cond. No.                         1.07\n",
      "==============================================================================\n",
      "\n",
      "Warnings:\n",
      "[1] Standard Errors assume that the covariance matrix of the errors is correctly specified.\n"
     ]
    },
    {
     "data": {
      "image/png": "[encoded data removed]",
      "text/plain": [
       "<Figure size 576x576 with 1 Axes>"
      ]
     },
     "metadata": {
      "needs_background": "light"
     },
     "output_type": "display_data"
    }
   ],
   "source": [
    "# 13 (i)\n",
    "\n",
    "\n",
    "# prepare x\n",
    "sigma = 1\n",
    "mu = 0\n",
    "x = sigma * np.random.randn(100) + mu\n",
    "\n",
    "# prepare eps\n",
    "sigma = 1\n",
    "mu = 0\n",
    "eps = sigma * np.random.randn(100) + mu\n",
    "\n",
    "# calc y\n",
    "y = -1 + 0.5 * x + eps\n",
    "\n",
    "# LR\n",
    "model = smf.ols(formula='y ~ x', data=pd.DataFrame({'x':x, 'y': y})).fit()\n",
    "model_more = model\n",
    "print(model.summary())\n",
    "\n",
    "# plot\n",
    "plt.figure(figsize=(8,8))\n",
    "ax = sns.scatterplot(x=x, y=y)\n",
    "plt.xlabel('x')\n",
    "plt.ylabel('y')\n",
    "ax.plot(x, model.predict(), color='r')\n",
    "ax.plot(x, -1+(0.5*x), color='y')\n",
    "ax.legend(['Least squares', 'Population regression']);\n"
   ]
  },
  {
   "cell_type": "code",
   "execution_count": 13,
   "metadata": {},
   "outputs": [
    {
     "data": {
      "text/html": [
       "<div>\n",
       "<style scoped>\n",
       "    .dataframe tbody tr th:only-of-type {\n",
       "        vertical-align: middle;\n",
       "    }\n",
       "\n",
       "    .dataframe tbody tr th {\n",
       "        vertical-align: top;\n",
       "    }\n",
       "\n",
       "    .dataframe thead th {\n",
       "        text-align: right;\n",
       "    }\n",
       "</style>\n",
       "<table border=\"1\" class=\"dataframe\">\n",
       "  <thead>\n",
       "    <tr style=\"text-align: right;\">\n",
       "      <th></th>\n",
       "      <th>0</th>\n",
       "      <th>1</th>\n",
       "    </tr>\n",
       "  </thead>\n",
       "  <tbody>\n",
       "    <tr>\n",
       "      <th>Intercept</th>\n",
       "      <td>-1.019741</td>\n",
       "      <td>-0.833246</td>\n",
       "    </tr>\n",
       "    <tr>\n",
       "      <th>x</th>\n",
       "      <td>0.442613</td>\n",
       "      <td>0.652814</td>\n",
       "    </tr>\n",
       "  </tbody>\n",
       "</table>\n",
       "</div>"
      ],
      "text/plain": [
       "                  0         1\n",
       "Intercept -1.019741 -0.833246\n",
       "x          0.442613  0.652814"
      ]
     },
     "execution_count": 13,
     "metadata": {},
     "output_type": "execute_result"
    }
   ],
   "source": [
    "# 13 (j)\n",
    "\n",
    "# Confidence interval - with 95% change values are in \n",
    "\n",
    "model_base.conf_int()"
   ]
  },
  {
   "cell_type": "code",
   "execution_count": 15,
   "metadata": {},
   "outputs": [
    {
     "data": {
      "text/html": [
       "<div>\n",
       "<style scoped>\n",
       "    .dataframe tbody tr th:only-of-type {\n",
       "        vertical-align: middle;\n",
       "    }\n",
       "\n",
       "    .dataframe tbody tr th {\n",
       "        vertical-align: top;\n",
       "    }\n",
       "\n",
       "    .dataframe thead th {\n",
       "        text-align: right;\n",
       "    }\n",
       "</style>\n",
       "<table border=\"1\" class=\"dataframe\">\n",
       "  <thead>\n",
       "    <tr style=\"text-align: right;\">\n",
       "      <th></th>\n",
       "      <th>0</th>\n",
       "      <th>1</th>\n",
       "    </tr>\n",
       "  </thead>\n",
       "  <tbody>\n",
       "    <tr>\n",
       "      <th>Intercept</th>\n",
       "      <td>-1.116451</td>\n",
       "      <td>-0.903364</td>\n",
       "    </tr>\n",
       "    <tr>\n",
       "      <th>x</th>\n",
       "      <td>0.366106</td>\n",
       "      <td>0.578137</td>\n",
       "    </tr>\n",
       "  </tbody>\n",
       "</table>\n",
       "</div>"
      ],
      "text/plain": [
       "                  0         1\n",
       "Intercept -1.116451 -0.903364\n",
       "x          0.366106  0.578137"
      ]
     },
     "execution_count": 15,
     "metadata": {},
     "output_type": "execute_result"
    }
   ],
   "source": [
    "model_less.conf_int()"
   ]
  },
  {
   "cell_type": "code",
   "execution_count": 16,
   "metadata": {},
   "outputs": [
    {
     "data": {
      "text/html": [
       "<div>\n",
       "<style scoped>\n",
       "    .dataframe tbody tr th:only-of-type {\n",
       "        vertical-align: middle;\n",
       "    }\n",
       "\n",
       "    .dataframe tbody tr th {\n",
       "        vertical-align: top;\n",
       "    }\n",
       "\n",
       "    .dataframe thead th {\n",
       "        text-align: right;\n",
       "    }\n",
       "</style>\n",
       "<table border=\"1\" class=\"dataframe\">\n",
       "  <thead>\n",
       "    <tr style=\"text-align: right;\">\n",
       "      <th></th>\n",
       "      <th>0</th>\n",
       "      <th>1</th>\n",
       "    </tr>\n",
       "  </thead>\n",
       "  <tbody>\n",
       "    <tr>\n",
       "      <th>Intercept</th>\n",
       "      <td>-1.088787</td>\n",
       "      <td>-0.671654</td>\n",
       "    </tr>\n",
       "    <tr>\n",
       "      <th>x</th>\n",
       "      <td>0.389282</td>\n",
       "      <td>0.791316</td>\n",
       "    </tr>\n",
       "  </tbody>\n",
       "</table>\n",
       "</div>"
      ],
      "text/plain": [
       "                  0         1\n",
       "Intercept -1.088787 -0.671654\n",
       "x          0.389282  0.791316"
      ]
     },
     "execution_count": 16,
     "metadata": {},
     "output_type": "execute_result"
    }
   ],
   "source": [
    "model_more.conf_int()"
   ]
  }
 ],
 "metadata": {
  "kernelspec": {
   "display_name": "Python 3",
   "language": "python",
   "name": "python3"
  },
  "language_info": {
   "codemirror_mode": {
    "name": "ipython",
    "version": 3
   },
   "file_extension": ".py",
   "mimetype": "text/x-python",
   "name": "python",
   "nbconvert_exporter": "python",
   "pygments_lexer": "ipython3",
   "version": "3.7.5"
  }
 },
 "nbformat": 4,
 "nbformat_minor": 2
}
