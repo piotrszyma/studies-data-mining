{
 "cells": [
  {
   "cell_type": "code",
   "execution_count": 1,
   "metadata": {},
   "outputs": [],
   "source": [
    "import pandas as pd\n",
    "import numpy as np\n",
    "import matplotlib.pyplot as plt\n",
    "from sklearn.linear_model import LinearRegression\n",
    "import statsmodels.formula.api as smf\n",
    "import statsmodels.api as sm\n",
    "import seaborn as sns\n",
    "\n",
    "%matplotlib inline\n"
   ]
  },
  {
   "cell_type": "code",
   "execution_count": 2,
   "metadata": {},
   "outputs": [
    {
     "data": {
      "text/plain": [
       "(11.173260452749581, 100)"
      ]
     },
     "execution_count": 2,
     "metadata": {},
     "output_type": "execute_result"
    }
   ],
   "source": [
    "# Excercise 13\n",
    "\n",
    "np.random.seed(1)\n",
    "\n",
    "# 13 (a)\n",
    "# N(0, 1)\n",
    "# N(mu, sigma^2)\n",
    "\n",
    "sigma = 1\n",
    "mu = 0\n",
    "x = sigma * np.random.randn(100) + mu\n",
    "\n",
    "# 13 (b)\n",
    "# N(0, 0.25)\n",
    "# N(mu, sigma^2)\n",
    "\n",
    "sigma = 0.5\n",
    "mu = 0\n",
    "eps = sigma * np.random.randn(100) + mu\n",
    "\n",
    "# 13 (c)\n",
    "B_0 = -1\n",
    "B_1 = 0.5\n",
    "\n",
    "y = -1 + 0.5 * x + eps\n",
    "\n",
    "# B_0 = -1\n",
    "# B_1 = 0.5\n",
    "# Vector len = 100\n",
    "\n",
    "# 13 (d)\n",
    "np.linalg.norm(y), len(y)"
   ]
  },
  {
   "cell_type": "code",
   "execution_count": 3,
   "metadata": {},
   "outputs": [
    {
     "data": {
      "image/png": "[encoded data removed]",
      "text/plain": [
       "<Figure size 432x288 with 1 Axes>"
      ]
     },
     "metadata": {
      "needs_background": "light"
     },
     "output_type": "display_data"
    }
   ],
   "source": [
    "# 13 (d)\n",
    "ax = sns.scatterplot(x=x, y=y)\n",
    "plt.xlabel('x')\n",
    "plt.ylabel('y');"
   ]
  },
  {
   "cell_type": "code",
   "execution_count": 4,
   "metadata": {},
   "outputs": [
    {
     "data": {
      "text/html": [
       "<div>\n",
       "<style scoped>\n",
       "    .dataframe tbody tr th:only-of-type {\n",
       "        vertical-align: middle;\n",
       "    }\n",
       "\n",
       "    .dataframe tbody tr th {\n",
       "        vertical-align: top;\n",
       "    }\n",
       "\n",
       "    .dataframe thead th {\n",
       "        text-align: right;\n",
       "    }\n",
       "</style>\n",
       "<table border=\"1\" class=\"dataframe\">\n",
       "  <thead>\n",
       "    <tr style=\"text-align: right;\">\n",
       "      <th></th>\n",
       "      <th>x</th>\n",
       "      <th>y</th>\n",
       "    </tr>\n",
       "  </thead>\n",
       "  <tbody>\n",
       "    <tr>\n",
       "      <th>x</th>\n",
       "      <td>1.000000</td>\n",
       "      <td>0.722384</td>\n",
       "    </tr>\n",
       "    <tr>\n",
       "      <th>y</th>\n",
       "      <td>0.722384</td>\n",
       "      <td>1.000000</td>\n",
       "    </tr>\n",
       "  </tbody>\n",
       "</table>\n",
       "</div>"
      ],
      "text/plain": [
       "          x         y\n",
       "x  1.000000  0.722384\n",
       "y  0.722384  1.000000"
      ]
     },
     "execution_count": 4,
     "metadata": {},
     "output_type": "execute_result"
    }
   ],
   "source": [
    "pd.DataFrame({'x':x, 'y': y}).corr()"
   ]
  },
  {
   "cell_type": "code",
   "execution_count": 5,
   "metadata": {},
   "outputs": [
    {
     "data": {
      "text/html": [
       "<table class=\"simpletable\">\n",
       "<caption>OLS Regression Results</caption>\n",
       "<tr>\n",
       "  <th>Dep. Variable:</th>            <td>y</td>        <th>  R-squared:         </th> <td>   0.522</td>\n",
       "</tr>\n",
       "<tr>\n",
       "  <th>Model:</th>                   <td>OLS</td>       <th>  Adj. R-squared:    </th> <td>   0.517</td>\n",
       "</tr>\n",
       "<tr>\n",
       "  <th>Method:</th>             <td>Least Squares</td>  <th>  F-statistic:       </th> <td>   107.0</td>\n",
       "</tr>\n",
       "<tr>\n",
       "  <th>Date:</th>             <td>Fri, 06 Dec 2019</td> <th>  Prob (F-statistic):</th> <td>2.20e-17</td>\n",
       "</tr>\n",
       "<tr>\n",
       "  <th>Time:</th>                 <td>12:24:37</td>     <th>  Log-Likelihood:    </th> <td> -65.124</td>\n",
       "</tr>\n",
       "<tr>\n",
       "  <th>No. Observations:</th>      <td>   100</td>      <th>  AIC:               </th> <td>   134.2</td>\n",
       "</tr>\n",
       "<tr>\n",
       "  <th>Df Residuals:</th>          <td>    98</td>      <th>  BIC:               </th> <td>   139.5</td>\n",
       "</tr>\n",
       "<tr>\n",
       "  <th>Df Model:</th>              <td>     1</td>      <th>                     </th>     <td> </td>   \n",
       "</tr>\n",
       "<tr>\n",
       "  <th>Covariance Type:</th>      <td>nonrobust</td>    <th>                     </th>     <td> </td>   \n",
       "</tr>\n",
       "</table>\n",
       "<table class=\"simpletable\">\n",
       "<tr>\n",
       "      <td></td>         <th>coef</th>     <th>std err</th>      <th>t</th>      <th>P>|t|</th>  <th>[0.025</th>    <th>0.975]</th>  \n",
       "</tr>\n",
       "<tr>\n",
       "  <th>Intercept</th> <td>   -0.9265</td> <td>    0.047</td> <td>  -19.717</td> <td> 0.000</td> <td>   -1.020</td> <td>   -0.833</td>\n",
       "</tr>\n",
       "<tr>\n",
       "  <th>x</th>         <td>    0.5477</td> <td>    0.053</td> <td>   10.342</td> <td> 0.000</td> <td>    0.443</td> <td>    0.653</td>\n",
       "</tr>\n",
       "</table>\n",
       "<table class=\"simpletable\">\n",
       "<tr>\n",
       "  <th>Omnibus:</th>       <td> 0.898</td> <th>  Durbin-Watson:     </th> <td>   2.157</td>\n",
       "</tr>\n",
       "<tr>\n",
       "  <th>Prob(Omnibus):</th> <td> 0.638</td> <th>  Jarque-Bera (JB):  </th> <td>   0.561</td>\n",
       "</tr>\n",
       "<tr>\n",
       "  <th>Skew:</th>          <td>-0.172</td> <th>  Prob(JB):          </th> <td>   0.755</td>\n",
       "</tr>\n",
       "<tr>\n",
       "  <th>Kurtosis:</th>      <td> 3.127</td> <th>  Cond. No.          </th> <td>    1.15</td>\n",
       "</tr>\n",
       "</table><br/><br/>Warnings:<br/>[1] Standard Errors assume that the covariance matrix of the errors is correctly specified."
      ],
      "text/plain": [
       "<class 'statsmodels.iolib.summary.Summary'>\n",
       "\"\"\"\n",
       "                            OLS Regression Results                            \n",
       "==============================================================================\n",
       "Dep. Variable:                      y   R-squared:                       0.522\n",
       "Model:                            OLS   Adj. R-squared:                  0.517\n",
       "Method:                 Least Squares   F-statistic:                     107.0\n",
       "Date:                Fri, 06 Dec 2019   Prob (F-statistic):           2.20e-17\n",
       "Time:                        12:24:37   Log-Likelihood:                -65.124\n",
       "No. Observations:                 100   AIC:                             134.2\n",
       "Df Residuals:                      98   BIC:                             139.5\n",
       "Df Model:                           1                                         \n",
       "Covariance Type:            nonrobust                                         \n",
       "==============================================================================\n",
       "                 coef    std err          t      P>|t|      [0.025      0.975]\n",
       "------------------------------------------------------------------------------\n",
       "Intercept     -0.9265      0.047    -19.717      0.000      -1.020      -0.833\n",
       "x              0.5477      0.053     10.342      0.000       0.443       0.653\n",
       "==============================================================================\n",
       "Omnibus:                        0.898   Durbin-Watson:                   2.157\n",
       "Prob(Omnibus):                  0.638   Jarque-Bera (JB):                0.561\n",
       "Skew:                          -0.172   Prob(JB):                        0.755\n",
       "Kurtosis:                       3.127   Cond. No.                         1.15\n",
       "==============================================================================\n",
       "\n",
       "Warnings:\n",
       "[1] Standard Errors assume that the covariance matrix of the errors is correctly specified.\n",
       "\"\"\""
      ]
     },
     "execution_count": 5,
     "metadata": {},
     "output_type": "execute_result"
    }
   ],
   "source": [
    "# 13 (e)\n",
    "\n",
    "model = sm.OLS.from_formula('y ~ x', data=pd.DataFrame({'x':x, 'y': y})).fit()\n",
    "model_base = model\n",
    "model.summary()\n"
   ]
  },
  {
   "cell_type": "code",
   "execution_count": 6,
   "metadata": {},
   "outputs": [],
   "source": [
    "B_0 = -0.9265\n",
    "b_1 = 0.4502\n",
    "\n",
    "# The model estimates parameters close to the true values. "
   ]
  },
  {
   "cell_type": "code",
   "execution_count": 7,
   "metadata": {
    "scrolled": false
   },
   "outputs": [
    {
     "data": {
      "image/png": "[encoded data removed]",
      "text/plain": [
       "<Figure size 576x576 with 1 Axes>"
      ]
     },
     "metadata": {
      "needs_background": "light"
     },
     "output_type": "display_data"
    }
   ],
   "source": [
    "# 13 (f)\n",
    "\n",
    "plt.figure(figsize=(8,8))\n",
    "ax = sns.scatterplot(x=x, y=y, color='b')\n",
    "plt.xlabel('x')\n",
    "plt.ylabel('y')\n",
    "ax.plot(x, model.predict(), color='r')\n",
    "ax.plot(x, -1+(0.5*x), color='g')\n",
    "ax.legend(['pred', 'regression']);"
   ]
  },
  {
   "cell_type": "code",
   "execution_count": 8,
   "metadata": {},
   "outputs": [
    {
     "data": {
      "text/html": [
       "<table class=\"simpletable\">\n",
       "<caption>OLS Regression Results</caption>\n",
       "<tr>\n",
       "  <th>Dep. Variable:</th>            <td>y</td>        <th>  R-squared:         </th> <td>   0.522</td>\n",
       "</tr>\n",
       "<tr>\n",
       "  <th>Model:</th>                   <td>OLS</td>       <th>  Adj. R-squared:    </th> <td>   0.512</td>\n",
       "</tr>\n",
       "<tr>\n",
       "  <th>Method:</th>             <td>Least Squares</td>  <th>  F-statistic:       </th> <td>   52.96</td>\n",
       "</tr>\n",
       "<tr>\n",
       "  <th>Date:</th>             <td>Fri, 06 Dec 2019</td> <th>  Prob (F-statistic):</th> <td>2.83e-16</td>\n",
       "</tr>\n",
       "<tr>\n",
       "  <th>Time:</th>                 <td>12:24:38</td>     <th>  Log-Likelihood:    </th> <td> -65.107</td>\n",
       "</tr>\n",
       "<tr>\n",
       "  <th>No. Observations:</th>      <td>   100</td>      <th>  AIC:               </th> <td>   136.2</td>\n",
       "</tr>\n",
       "<tr>\n",
       "  <th>Df Residuals:</th>          <td>    97</td>      <th>  BIC:               </th> <td>   144.0</td>\n",
       "</tr>\n",
       "<tr>\n",
       "  <th>Df Model:</th>              <td>     2</td>      <th>                     </th>     <td> </td>   \n",
       "</tr>\n",
       "<tr>\n",
       "  <th>Covariance Type:</th>      <td>nonrobust</td>    <th>                     </th>     <td> </td>   \n",
       "</tr>\n",
       "</table>\n",
       "<table class=\"simpletable\">\n",
       "<tr>\n",
       "        <td></td>          <th>coef</th>     <th>std err</th>      <th>t</th>      <th>P>|t|</th>  <th>[0.025</th>    <th>0.975]</th>  \n",
       "</tr>\n",
       "<tr>\n",
       "  <th>Intercept</th>    <td>   -0.9325</td> <td>    0.058</td> <td>  -16.158</td> <td> 0.000</td> <td>   -1.047</td> <td>   -0.818</td>\n",
       "</tr>\n",
       "<tr>\n",
       "  <th>x</th>            <td>    0.5468</td> <td>    0.053</td> <td>   10.229</td> <td> 0.000</td> <td>    0.441</td> <td>    0.653</td>\n",
       "</tr>\n",
       "<tr>\n",
       "  <th>np.square(x)</th> <td>    0.0077</td> <td>    0.043</td> <td>    0.181</td> <td> 0.856</td> <td>   -0.077</td> <td>    0.092</td>\n",
       "</tr>\n",
       "</table>\n",
       "<table class=\"simpletable\">\n",
       "<tr>\n",
       "  <th>Omnibus:</th>       <td> 0.893</td> <th>  Durbin-Watson:     </th> <td>   2.152</td>\n",
       "</tr>\n",
       "<tr>\n",
       "  <th>Prob(Omnibus):</th> <td> 0.640</td> <th>  Jarque-Bera (JB):  </th> <td>   0.552</td>\n",
       "</tr>\n",
       "<tr>\n",
       "  <th>Skew:</th>          <td>-0.170</td> <th>  Prob(JB):          </th> <td>   0.759</td>\n",
       "</tr>\n",
       "<tr>\n",
       "  <th>Kurtosis:</th>      <td> 3.132</td> <th>  Cond. No.          </th> <td>    2.10</td>\n",
       "</tr>\n",
       "</table><br/><br/>Warnings:<br/>[1] Standard Errors assume that the covariance matrix of the errors is correctly specified."
      ],
      "text/plain": [
       "<class 'statsmodels.iolib.summary.Summary'>\n",
       "\"\"\"\n",
       "                            OLS Regression Results                            \n",
       "==============================================================================\n",
       "Dep. Variable:                      y   R-squared:                       0.522\n",
       "Model:                            OLS   Adj. R-squared:                  0.512\n",
       "Method:                 Least Squares   F-statistic:                     52.96\n",
       "Date:                Fri, 06 Dec 2019   Prob (F-statistic):           2.83e-16\n",
       "Time:                        12:24:38   Log-Likelihood:                -65.107\n",
       "No. Observations:                 100   AIC:                             136.2\n",
       "Df Residuals:                      97   BIC:                             144.0\n",
       "Df Model:                           2                                         \n",
       "Covariance Type:            nonrobust                                         \n",
       "================================================================================\n",
       "                   coef    std err          t      P>|t|      [0.025      0.975]\n",
       "--------------------------------------------------------------------------------\n",
       "Intercept       -0.9325      0.058    -16.158      0.000      -1.047      -0.818\n",
       "x                0.5468      0.053     10.229      0.000       0.441       0.653\n",
       "np.square(x)     0.0077      0.043      0.181      0.856      -0.077       0.092\n",
       "==============================================================================\n",
       "Omnibus:                        0.893   Durbin-Watson:                   2.152\n",
       "Prob(Omnibus):                  0.640   Jarque-Bera (JB):                0.552\n",
       "Skew:                          -0.170   Prob(JB):                        0.759\n",
       "Kurtosis:                       3.132   Cond. No.                         2.10\n",
       "==============================================================================\n",
       "\n",
       "Warnings:\n",
       "[1] Standard Errors assume that the covariance matrix of the errors is correctly specified.\n",
       "\"\"\""
      ]
     },
     "execution_count": 8,
     "metadata": {},
     "output_type": "execute_result"
    },
    {
     "data": {
      "image/png": "[encoded data removed]",
      "text/plain": [
       "<Figure size 576x576 with 1 Axes>"
      ]
     },
     "metadata": {
      "needs_background": "light"
     },
     "output_type": "display_data"
    }
   ],
   "source": [
    "# 13 (g)\n",
    "\n",
    "model = smf.ols(formula='y ~ x + np.square(x)', data=pd.DataFrame({'x':x, 'y': y})).fit()\n",
    "plt.figure(figsize=(8,8))\n",
    "ax = sns.scatterplot(x=x, y=y, color='b')\n",
    "plt.xlabel('x')\n",
    "plt.ylabel('y')\n",
    "ax.plot(x, model.predict(), 'ro')\n",
    "ax.plot(x, -1+(0.5*x), color='g')\n",
    "ax.legend(['pred', 'regression']);\n",
    "model.summary()\n"
   ]
  },
  {
   "cell_type": "markdown",
   "metadata": {},
   "source": [
    "\n",
    "The model selects a small coefficient for the quadratic variable and so the fit of our model is only slightly affected. The p-value > 0.05 for this variable suggests that it is not statistically significant in representing our data. The R-squared value is identical for both models suggesting that the quadratic model hasn't reduced the error of our model in fitting the data.\n",
    "\n",
    "Overall the quadratic term x does not seem to have improved our model.\n"
   ]
  },
  {
   "cell_type": "code",
   "execution_count": 38,
   "metadata": {},
   "outputs": [
    {
     "name": "stdout",
     "output_type": "stream",
     "text": [
      "                            OLS Regression Results                            \n",
      "==============================================================================\n",
      "Dep. Variable:                      y   R-squared:                       0.963\n",
      "Model:                            OLS   Adj. R-squared:                  0.962\n",
      "Method:                 Least Squares   F-statistic:                     2525.\n",
      "Date:                Fri, 06 Dec 2019   Prob (F-statistic):           9.12e-72\n",
      "Time:                        12:33:31   Log-Likelihood:                 84.594\n",
      "No. Observations:                 100   AIC:                            -165.2\n",
      "Df Residuals:                      98   BIC:                            -160.0\n",
      "Df Model:                           1                                         \n",
      "Covariance Type:            nonrobust                                         \n",
      "==============================================================================\n",
      "                 coef    std err          t      P>|t|      [0.025      0.975]\n",
      "------------------------------------------------------------------------------\n",
      "Intercept     -0.9880      0.011    -94.008      0.000      -1.009      -0.967\n",
      "x              0.5090      0.010     50.252      0.000       0.489       0.529\n",
      "==============================================================================\n",
      "Omnibus:                        3.633   Durbin-Watson:                   1.972\n",
      "Prob(Omnibus):                  0.163   Jarque-Bera (JB):                3.566\n",
      "Skew:                           0.192   Prob(JB):                        0.168\n",
      "Kurtosis:                       3.842   Cond. No.                         1.07\n",
      "==============================================================================\n",
      "\n",
      "Warnings:\n",
      "[1] Standard Errors assume that the covariance matrix of the errors is correctly specified.\n",
      "                            OLS Regression Results                            \n",
      "==============================================================================\n",
      "Dep. Variable:                      y   R-squared:                       0.155\n",
      "Model:                            OLS   Adj. R-squared:                  0.146\n",
      "Method:                 Least Squares   F-statistic:                     17.91\n",
      "Date:                Fri, 06 Dec 2019   Prob (F-statistic):           5.21e-05\n",
      "Time:                        12:33:31   Log-Likelihood:                -144.46\n",
      "No. Observations:                 100   AIC:                             292.9\n",
      "Df Residuals:                      98   BIC:                             298.1\n",
      "Df Model:                           1                                         \n",
      "Covariance Type:            nonrobust                                         \n",
      "==============================================================================\n",
      "                 coef    std err          t      P>|t|      [0.025      0.975]\n",
      "------------------------------------------------------------------------------\n",
      "Intercept     -1.0941      0.104    -10.538      0.000      -1.300      -0.888\n",
      "x              0.5708      0.135      4.233      0.000       0.303       0.838\n",
      "==============================================================================\n",
      "Omnibus:                        1.109   Durbin-Watson:                   2.218\n",
      "Prob(Omnibus):                  0.574   Jarque-Bera (JB):                0.610\n",
      "Skew:                          -0.004   Prob(JB):                        0.737\n",
      "Kurtosis:                       3.383   Cond. No.                         1.31\n",
      "==============================================================================\n",
      "\n",
      "Warnings:\n",
      "[1] Standard Errors assume that the covariance matrix of the errors is correctly specified.\n"
     ]
    },
    {
     "data": {
      "image/png": "[encoded data removed]",
      "text/plain": [
       "<Figure size 576x576 with 1 Axes>"
      ]
     },
     "metadata": {
      "needs_background": "light"
     },
     "output_type": "display_data"
    }
   ],
   "source": [
    "# 13 (h)\n",
    "sigma = 1\n",
    "mu = 0\n",
    "x = sigma * np.random.randn(100) + mu\n",
    "\n",
    "# 13 (b)\n",
    "# N(0, 0.25)\n",
    "# N(mu, sigma^2)\n",
    "\n",
    "sigma = 0.5 # sigma model_base\n",
    "mu = 0\n",
    "eps = sigma * np.random.randn(100) + mu\n",
    "\n",
    "# 13 (c)\n",
    "B_0 = -1\n",
    "B_1 = 0.5\n",
    "\n",
    "y = -1 + 0.5 * x + eps\n",
    "\n",
    "model = sm.OLS.from_formula('y ~ x', data=pd.DataFrame({'x':x, 'y': y})).fit()\n",
    "model_base = model\n",
    "model.summary()\n",
    "\n",
    "# prepare x]/.j,\n",
    "sigma = 1\n",
    "mu = 0\n",
    "x = sigma * np.random.randn(100) + mu\n",
    "\n",
    "# prepare eps\n",
    "sigma = 0.1 # sigma model_less\n",
    "mu = 0 # eps\n",
    "eps = sigma * np.random.randn(100) + mu\n",
    "\n",
    "# calc y\n",
    "y = -1 + 0.5 * x + eps\n",
    "\n",
    "# LR\n",
    "model = smf.ols(formula='y ~ x', data=pd.DataFrame({'x':x, 'y':y})).fit()\n",
    "model_less = model\n",
    "print(model.summary())\n",
    "\n",
    "\n",
    "# prepare x\n",
    "sigma = 0.8\n",
    "mu = 0\n",
    "x = sigma * np.random.randn(100) + mu\n",
    "\n",
    "# prepare eps\n",
    "sigma = 1 # sigma model_more\n",
    "mu = 0\n",
    "eps = sigma * np.random.randn(100) + mu\n",
    "\n",
    "# calc y\n",
    "y = -1 + 0.5 * x + eps\n",
    "\n",
    "# LR\n",
    "model = smf.ols(formula='y ~ x', data=pd.DataFrame({'x':x, 'y': y})).fit()\n",
    "model_more = model\n",
    "print(model.summary())\n",
    "\n",
    "\n",
    "# plot\n",
    "plt.figure(figsize=(8,8))\n",
    "ax = sns.scatterplot(x=x, y=y)\n",
    "plt.xlabel('x')\n",
    "plt.ylabel('y')\n",
    "ax.plot(x, model.predict(), color='r')\n",
    "ax.plot(x, -1+(0.5*x), color='y')\n",
    "ax.legend(['Least squares', 'Population regression']);"
   ]
  },
  {
   "cell_type": "code",
   "execution_count": null,
   "metadata": {},
   "outputs": [],
   "source": []
  },
  {
   "cell_type": "code",
   "execution_count": 27,
   "metadata": {},
   "outputs": [
    {
     "name": "stdout",
     "output_type": "stream",
     "text": [
      "                            OLS Regression Results                            \n",
      "==============================================================================\n",
      "Dep. Variable:                      y   R-squared:                       0.100\n",
      "Model:                            OLS   Adj. R-squared:                  0.091\n",
      "Method:                 Least Squares   F-statistic:                     10.87\n",
      "Date:                Fri, 06 Dec 2019   Prob (F-statistic):            0.00136\n",
      "Time:                        12:30:25   Log-Likelihood:                -138.68\n",
      "No. Observations:                 100   AIC:                             281.4\n",
      "Df Residuals:                      98   BIC:                             286.6\n",
      "Df Model:                           1                                         \n",
      "Covariance Type:            nonrobust                                         \n",
      "==============================================================================\n",
      "                 coef    std err          t      P>|t|      [0.025      0.975]\n",
      "------------------------------------------------------------------------------\n",
      "Intercept     -1.0105      0.098    -10.309      0.000      -1.205      -0.816\n",
      "x              0.3469      0.105      3.297      0.001       0.138       0.556\n",
      "==============================================================================\n",
      "Omnibus:                        1.329   Durbin-Watson:                   2.234\n",
      "Prob(Omnibus):                  0.515   Jarque-Bera (JB):                1.189\n",
      "Skew:                           0.265   Prob(JB):                        0.552\n",
      "Kurtosis:                       2.940   Cond. No.                         1.10\n",
      "==============================================================================\n",
      "\n",
      "Warnings:\n",
      "[1] Standard Errors assume that the covariance matrix of the errors is correctly specified.\n"
     ]
    },
    {
     "data": {
      "image/png": "[encoded data removed]",
      "text/plain": [
       "<Figure size 576x576 with 1 Axes>"
      ]
     },
     "metadata": {
      "needs_background": "light"
     },
     "output_type": "display_data"
    }
   ],
   "source": [
    "# 13 (i)\n",
    "\n",
    "\n",
    "# prepare x\n",
    "sigma = 1\n",
    "mu = 0\n",
    "x = sigma * np.random.randn(100) + mu\n",
    "\n",
    "# prepare eps\n",
    "sigma = 1\n",
    "mu = 0\n",
    "eps = sigma * np.random.randn(100) + mu\n",
    "\n",
    "# calc y\n",
    "y = -1 + 0.5 * x + eps\n",
    "\n",
    "# LR\n",
    "model = smf.ols(formula='y ~ x', data=pd.DataFrame({'x':x, 'y': y})).fit()\n",
    "model_more = model\n",
    "print(model.summary())\n",
    "\n",
    "# plot\n",
    "plt.figure(figsize=(8,8))\n",
    "ax = sns.scatterplot(x=x, y=y)\n",
    "plt.xlabel('x')\n",
    "plt.ylabel('y')\n",
    "ax.plot(x, model.predict(), color='r')\n",
    "ax.plot(x, -1+(0.5*x), color='y')\n",
    "ax.legend(['Least squares', 'Population regression']);\n"
   ]
  },
  {
   "cell_type": "code",
   "execution_count": 39,
   "metadata": {},
   "outputs": [
    {
     "data": {
      "text/html": [
       "<div>\n",
       "<style scoped>\n",
       "    .dataframe tbody tr th:only-of-type {\n",
       "        vertical-align: middle;\n",
       "    }\n",
       "\n",
       "    .dataframe tbody tr th {\n",
       "        vertical-align: top;\n",
       "    }\n",
       "\n",
       "    .dataframe thead th {\n",
       "        text-align: right;\n",
       "    }\n",
       "</style>\n",
       "<table border=\"1\" class=\"dataframe\">\n",
       "  <thead>\n",
       "    <tr style=\"text-align: right;\">\n",
       "      <th></th>\n",
       "      <th>0</th>\n",
       "      <th>1</th>\n",
       "    </tr>\n",
       "  </thead>\n",
       "  <tbody>\n",
       "    <tr>\n",
       "      <th>Intercept</th>\n",
       "      <td>-1.116451</td>\n",
       "      <td>-0.903364</td>\n",
       "    </tr>\n",
       "    <tr>\n",
       "      <th>x</th>\n",
       "      <td>0.366106</td>\n",
       "      <td>0.578137</td>\n",
       "    </tr>\n",
       "  </tbody>\n",
       "</table>\n",
       "</div>"
      ],
      "text/plain": [
       "                  0         1\n",
       "Intercept -1.116451 -0.903364\n",
       "x          0.366106  0.578137"
      ]
     },
     "execution_count": 39,
     "metadata": {},
     "output_type": "execute_result"
    }
   ],
   "source": [
    "# 13 (j)\n",
    "\n",
    "# Confidence interval - with 95% change values are in \n",
    "\n",
    "model_base.conf_int()"
   ]
  },
  {
   "cell_type": "code",
   "execution_count": 24,
   "metadata": {},
   "outputs": [
    {
     "data": {
      "text/html": [
       "<div>\n",
       "<style scoped>\n",
       "    .dataframe tbody tr th:only-of-type {\n",
       "        vertical-align: middle;\n",
       "    }\n",
       "\n",
       "    .dataframe tbody tr th {\n",
       "        vertical-align: top;\n",
       "    }\n",
       "\n",
       "    .dataframe thead th {\n",
       "        text-align: right;\n",
       "    }\n",
       "</style>\n",
       "<table border=\"1\" class=\"dataframe\">\n",
       "  <thead>\n",
       "    <tr style=\"text-align: right;\">\n",
       "      <th></th>\n",
       "      <th>0</th>\n",
       "      <th>1</th>\n",
       "    </tr>\n",
       "  </thead>\n",
       "  <tbody>\n",
       "    <tr>\n",
       "      <th>Intercept</th>\n",
       "      <td>-1.001042</td>\n",
       "      <td>-0.996886</td>\n",
       "    </tr>\n",
       "    <tr>\n",
       "      <th>x</th>\n",
       "      <td>0.499732</td>\n",
       "      <td>0.503356</td>\n",
       "    </tr>\n",
       "  </tbody>\n",
       "</table>\n",
       "</div>"
      ],
      "text/plain": [
       "                  0         1\n",
       "Intercept -1.001042 -0.996886\n",
       "x          0.499732  0.503356"
      ]
     },
     "execution_count": 24,
     "metadata": {},
     "output_type": "execute_result"
    }
   ],
   "source": [
    "model_less.conf_int()"
   ]
  },
  {
   "cell_type": "code",
   "execution_count": 25,
   "metadata": {},
   "outputs": [
    {
     "data": {
      "text/html": [
       "<div>\n",
       "<style scoped>\n",
       "    .dataframe tbody tr th:only-of-type {\n",
       "        vertical-align: middle;\n",
       "    }\n",
       "\n",
       "    .dataframe tbody tr th {\n",
       "        vertical-align: top;\n",
       "    }\n",
       "\n",
       "    .dataframe thead th {\n",
       "        text-align: right;\n",
       "    }\n",
       "</style>\n",
       "<table border=\"1\" class=\"dataframe\">\n",
       "  <thead>\n",
       "    <tr style=\"text-align: right;\">\n",
       "      <th></th>\n",
       "      <th>0</th>\n",
       "      <th>1</th>\n",
       "    </tr>\n",
       "  </thead>\n",
       "  <tbody>\n",
       "    <tr>\n",
       "      <th>Intercept</th>\n",
       "      <td>-1.279440</td>\n",
       "      <td>-0.886506</td>\n",
       "    </tr>\n",
       "    <tr>\n",
       "      <th>x</th>\n",
       "      <td>0.115793</td>\n",
       "      <td>0.541931</td>\n",
       "    </tr>\n",
       "  </tbody>\n",
       "</table>\n",
       "</div>"
      ],
      "text/plain": [
       "                  0         1\n",
       "Intercept -1.279440 -0.886506\n",
       "x          0.115793  0.541931"
      ]
     },
     "execution_count": 25,
     "metadata": {},
     "output_type": "execute_result"
    }
   ],
   "source": [
    "model_more.conf_int()"
   ]
  }
 ],
 "metadata": {
  "kernelspec": {
   "display_name": "Python 3",
   "language": "python",
   "name": "python3"
  },
  "language_info": {
   "codemirror_mode": {
    "name": "ipython",
    "version": 3
   },
   "file_extension": ".py",
   "mimetype": "text/x-python",
   "name": "python",
   "nbconvert_exporter": "python",
   "pygments_lexer": "ipython3",
   "version": "3.7.5"
  }
 },
 "nbformat": 4,
 "nbformat_minor": 2
}
