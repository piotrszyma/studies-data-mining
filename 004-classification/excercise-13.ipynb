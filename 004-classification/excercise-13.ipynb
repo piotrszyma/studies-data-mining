{
 "cells": [
  {
   "cell_type": "code",
   "execution_count": 2,
   "metadata": {},
   "outputs": [],
   "source": [
    "import pandas as pd\n",
    "import numpy as np\n",
    "import matplotlib.pyplot as plt\n",
    "import statsmodels.api as sm\n",
    "import seaborn as sns\n",
    "from sklearn import metrics\n",
    "from patsy import dmatrices\n",
    "\n",
    "%matplotlib inline"
   ]
  },
  {
   "cell_type": "code",
   "execution_count": 4,
   "metadata": {},
   "outputs": [],
   "source": [
    "df = pd.read_csv('Credit.csv')\n",
    "df['IncomeGreaterThan50'] = np.where(df['Income'] > 50.0, 'Yes', 'No')\n",
    "df = df.astype({'IncomeGreaterThan50': 'category'})\n",
    "df = pd.get_dummies(df, columns=['IncomeGreaterThan50'])\n",
    "\n",
    "msk = np.random.rand(len(df)) < 0.8\n",
    "train = df[msk]\n",
    "test = df[~msk]\n"
   ]
  },
  {
   "cell_type": "code",
   "execution_count": 16,
   "metadata": {},
   "outputs": [
    {
     "data": {
      "text/plain": [
       "0.8977272727272727"
      ]
     },
     "execution_count": 16,
     "metadata": {},
     "output_type": "execute_result"
    }
   ],
   "source": [
    "# kNN\n",
    "\n",
    "from sklearn import neighbors\n",
    "from sklearn import metrics\n",
    "\n",
    "# a) income greater than $50\n",
    "equation = 'IncomeGreaterThan50_Yes ~ Rating + Balance + Limit'\n",
    "\n",
    "y, X = dmatrices(equation, data=train, return_type='dataframe') \n",
    "\n",
    "predictor = neighbors.KNeighborsClassifier().fit(X, y.values.ravel())\n",
    "\n",
    "y_true, X = dmatrices(equation, data=test, return_type='dataframe') \n",
    "y_pred = predictor.predict(X)\n",
    "\n",
    "metrics.accuracy_score(y_true, y_pred)"
   ]
  },
  {
   "cell_type": "code",
   "execution_count": 25,
   "metadata": {},
   "outputs": [
    {
     "data": {
      "text/plain": [
       "0.3522727272727273"
      ]
     },
     "execution_count": 25,
     "metadata": {},
     "output_type": "execute_result"
    }
   ],
   "source": [
    "from sklearn import neighbors\n",
    "from sklearn import metrics\n",
    "\n",
    "# b) # of cards\n",
    "equation = 'Cards ~ Balance'\n",
    "\n",
    "y, X = dmatrices(equation, data=train, return_type='dataframe') \n",
    "\n",
    "predictor = neighbors.KNeighborsClassifier().fit(X, y.values.ravel())\n",
    "\n",
    "y_true, X = dmatrices(equation, data=test, return_type='dataframe') \n",
    "y_pred = predictor.predict(X)\n",
    "\n",
    "metrics.accuracy_score(y_true, y_pred)"
   ]
  },
  {
   "cell_type": "code",
   "execution_count": 36,
   "metadata": {},
   "outputs": [
    {
     "data": {
      "text/plain": [
       "0.8863636363636364"
      ]
     },
     "execution_count": 36,
     "metadata": {},
     "output_type": "execute_result"
    }
   ],
   "source": [
    "# Decision tree\n",
    "from sklearn import tree\n",
    "from sklearn import metrics\n",
    "\n",
    "# a)  income greater than $50\n",
    "equation = 'IncomeGreaterThan50_Yes ~ Rating + Balance + Limit'\n",
    "\n",
    "y, X = dmatrices(equation, data=train, return_type='dataframe') \n",
    "\n",
    "predictor = tree.DecisionTreeClassifier(max_depth=16).fit(X, y.values.ravel())\n",
    "\n",
    "y_true, X = dmatrices(equation, data=test, return_type='dataframe') \n",
    "y_pred = predictor.predict(X)\n",
    "\n",
    "metrics.accuracy_score(y_true, y_pred)"
   ]
  },
  {
   "cell_type": "code",
   "execution_count": 47,
   "metadata": {},
   "outputs": [
    {
     "data": {
      "text/plain": [
       "0.2159090909090909"
      ]
     },
     "execution_count": 47,
     "metadata": {},
     "output_type": "execute_result"
    }
   ],
   "source": [
    "# Decision tree\n",
    "from sklearn import tree\n",
    "from sklearn import metrics\n",
    "\n",
    "# b) # of cards\n",
    "equation = 'Cards ~ Balance + Rating + Income + Limit'\n",
    "\n",
    "y, X = dmatrices(equation, data=train, return_type='dataframe') \n",
    "\n",
    "predictor = tree.DecisionTreeClassifier(criterion='entropy', max_depth=10000).fit(X, y.values.ravel())\n",
    "\n",
    "y_true, X = dmatrices(equation, data=test, return_type='dataframe') \n",
    "y_pred = predictor.predict(X)\n",
    "\n",
    "metrics.accuracy_score(y_true, y_pred)"
   ]
  },
  {
   "cell_type": "code",
   "execution_count": null,
   "metadata": {},
   "outputs": [],
   "source": []
  }
 ],
 "metadata": {
  "kernelspec": {
   "display_name": "Python 3",
   "language": "python",
   "name": "python3"
  },
  "language_info": {
   "codemirror_mode": {
    "name": "ipython",
    "version": 3
   },
   "file_extension": ".py",
   "mimetype": "text/x-python",
   "name": "python",
   "nbconvert_exporter": "python",
   "pygments_lexer": "ipython3",
   "version": "3.7.5"
  }
 },
 "nbformat": 4,
 "nbformat_minor": 2
}
