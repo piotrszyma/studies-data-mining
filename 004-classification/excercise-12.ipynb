{
 "cells": [
  {
   "cell_type": "markdown",
   "metadata": {},
   "source": [
    "#### Excercies 11 \n",
    "\n",
    "Download Credit.csv file from ISL homepage. Create logistic regression models with possibly high prediction accuracy for predicting\n",
    "\n",
    "1. if a given person has an income greater than 50 (hint: create new indicator variable),\n",
    "2. how many credit cards a person has.\n"
   ]
  },
  {
   "cell_type": "code",
   "execution_count": 1,
   "metadata": {},
   "outputs": [],
   "source": [
    "import pandas as pd\n",
    "import numpy as np\n",
    "import matplotlib.pyplot as plt\n",
    "import statsmodels.api as sm\n",
    "import seaborn as sns\n",
    "from sklearn import metrics\n",
    "from patsy import dmatrices\n",
    "\n",
    "%matplotlib inline"
   ]
  },
  {
   "cell_type": "code",
   "execution_count": 3,
   "metadata": {},
   "outputs": [],
   "source": [
    "df = pd.read_csv('Credit.csv')\n",
    "df['IncomeGreaterThan50'] = np.where(df['Income'] > 50.0, 'Yes', 'No')\n",
    "df = df.astype({'IncomeGreaterThan50': 'category'})\n",
    "df = pd.get_dummies(df, columns=['IncomeGreaterThan50'])\n",
    "\n",
    "msk = np.random.rand(len(df)) < 0.8\n",
    "train = df[msk]\n",
    "test = df[~msk]\n"
   ]
  },
  {
   "cell_type": "code",
   "execution_count": null,
   "metadata": {
    "scrolled": true
   },
   "outputs": [],
   "source": [
    "# _ = pd.plotting.scatter_matrix(df, color=\"brown\", figsize=(12,12))"
   ]
  },
  {
   "cell_type": "code",
   "execution_count": 4,
   "metadata": {},
   "outputs": [
    {
     "name": "stdout",
     "output_type": "stream",
     "text": [
      "Optimization terminated successfully.\n",
      "         Current function value: 0.185704\n",
      "         Iterations 9\n"
     ]
    },
    {
     "data": {
      "text/plain": [
       "0.9"
      ]
     },
     "execution_count": 4,
     "metadata": {},
     "output_type": "execute_result"
    }
   ],
   "source": [
    "# a) Income greater than 50\n",
    "equation = 'IncomeGreaterThan50_Yes ~ Rating + Balance + Limit'\n",
    "y, X = dmatrices(equation, data=train, return_type='dataframe') \n",
    "\n",
    "# Use statsmodels logistic regression\n",
    "logit = sm.Logit(y, X)\n",
    "result = logit.fit()\n",
    "# result.summary2()\n",
    "\n",
    "inc_greater_true, X = dmatrices(equation, data=test, return_type='dataframe') \n",
    "inc_greater_pred = result.predict(X)\n",
    "\n",
    "\n",
    "true = inc_greater_true['IncomeGreaterThan50_Yes'] == 1.0\n",
    "pred = inc_greater_pred > 0.5\n",
    "\n",
    "metrics.accuracy_score(true, pred)"
   ]
  },
  {
   "cell_type": "code",
   "execution_count": 5,
   "metadata": {},
   "outputs": [
    {
     "data": {
      "text/plain": [
       "0.37777777777777777"
      ]
     },
     "execution_count": 5,
     "metadata": {},
     "output_type": "execute_result"
    }
   ],
   "source": [
    "from sklearn import linear_model\n",
    "from sklearn import metrics\n",
    "\n",
    "# b) how many credit cards a person has\n",
    "equation = 'Cards ~ Balance + Rating + Income + Limit'\n",
    "\n",
    "y, X = dmatrices(equation, data=train, return_type='dataframe') \n",
    "\n",
    "\n",
    "linreg = linear_model.LogisticRegression(\n",
    "    C=1e9, \n",
    "    fit_intercept=False, \n",
    "    solver='liblinear', \n",
    "    max_iter=1000000, \n",
    "    multi_class='auto', \n",
    "    penalty='l1'\n",
    ").fit(X, y.values.ravel())\n",
    "\n",
    "y_true, X = dmatrices(equation, data=test, return_type='dataframe') \n",
    "y_pred = linreg.predict(X)\n",
    "\n",
    "metrics.accuracy_score(y_true, y_pred)"
   ]
  }
 ],
 "metadata": {
  "kernelspec": {
   "display_name": "Python 3",
   "language": "python",
   "name": "python3"
  },
  "language_info": {
   "codemirror_mode": {
    "name": "ipython",
    "version": 3
   },
   "file_extension": ".py",
   "mimetype": "text/x-python",
   "name": "python",
   "nbconvert_exporter": "python",
   "pygments_lexer": "ipython3",
   "version": "3.7.5"
  }
 },
 "nbformat": 4,
 "nbformat_minor": 2
}
