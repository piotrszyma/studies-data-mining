{
 "cells": [
  {
   "cell_type": "markdown",
   "metadata": {},
   "source": [
    "#### Excercies 11 \n",
    "\n",
    "Download Credit.csv file from ISL homepage. Create logistic regression models with possibly high prediction accuracy for predicting\n",
    "\n",
    "1. if a given person has an income greater than 50 (hint: create new indicator variable),\n",
    "2. how many credit cards a person has.\n"
   ]
  },
  {
   "cell_type": "code",
   "execution_count": 1,
   "metadata": {},
   "outputs": [],
   "source": [
    "import pandas as pd\n",
    "import numpy as np\n",
    "import matplotlib.pyplot as plt\n",
    "import statsmodels.api as sm\n",
    "import seaborn as sns\n",
    "from sklearn import metrics\n",
    "from patsy import dmatrices\n",
    "\n",
    "%matplotlib inline"
   ]
  },
  {
   "cell_type": "code",
   "execution_count": 2,
   "metadata": {},
   "outputs": [],
   "source": [
    "df = pd.read_csv('Credit.csv')\n",
    "df['IncomeGreaterThan50'] = np.where(df['Income'] > 50.0, 'Yes', 'No')\n",
    "df = df.astype({'IncomeGreaterThan50': 'category'})\n",
    "df = pd.get_dummies(df, columns=['IncomeGreaterThan50'])\n",
    "\n",
    "msk = np.random.rand(len(df)) < 0.8\n",
    "train = df[msk]\n",
    "test = df[~msk]\n"
   ]
  },
  {
   "cell_type": "code",
   "execution_count": 10,
   "metadata": {},
   "outputs": [
    {
     "name": "stdout",
     "output_type": "stream",
     "text": [
      "Optimization terminated successfully.\n",
      "         Current function value: 0.190301\n",
      "         Iterations 9\n"
     ]
    },
    {
     "data": {
      "text/plain": [
       "0.9479166666666666"
      ]
     },
     "execution_count": 10,
     "metadata": {},
     "output_type": "execute_result"
    }
   ],
   "source": [
    "# a) Income greater than 50\n",
    "equation = 'IncomeGreaterThan50_Yes ~ Rating + Balance + Limit'\n",
    "y, X = dmatrices(equation, data=train, return_type='dataframe') \n",
    "\n",
    "# Use statsmodels logistic regression\n",
    "logit = sm.Logit(y, X)\n",
    "result = logit.fit()\n",
    "# result.summary2()\n",
    "\n",
    "inc_greater_true, X = dmatrices(equation, data=test, return_type='dataframe') \n",
    "inc_greater_pred = result.predict(X)\n",
    "\n",
    "\n",
    "true = inc_greater_true['IncomeGreaterThan50_Yes'] == 1.0\n",
    "pred = inc_greater_pred > 0.5\n",
    "\n",
    "metrics.accuracy_score(true, pred)"
   ]
  },
  {
   "cell_type": "code",
   "execution_count": 11,
   "metadata": {},
   "outputs": [
    {
     "data": {
      "text/plain": [
       "0.3020833333333333"
      ]
     },
     "execution_count": 11,
     "metadata": {},
     "output_type": "execute_result"
    }
   ],
   "source": [
    "from sklearn import linear_model\n",
    "from sklearn import metrics\n",
    "\n",
    "# b) how many credit cards a person has\n",
    "equation = 'Cards ~ Income + Limit + Student + Balance'\n",
    "\n",
    "y, X = dmatrices(equation, data=train, return_type='dataframe') \n",
    "\n",
    "\n",
    "linreg = linear_model.LogisticRegression(\n",
    "    C=1e9, \n",
    "    fit_intercept=False, \n",
    "    solver='liblinear', \n",
    "    max_iter=1000000, \n",
    "    multi_class='auto', \n",
    "    penalty='l1'\n",
    ").fit(X, y.values.ravel())\n",
    "\n",
    "y_true, X = dmatrices(equation, data=test, return_type='dataframe') \n",
    "y_pred = linreg.predict(X)\n",
    "\n",
    "metrics.accuracy_score(y_true, y_pred)"
   ]
  },
  {
   "cell_type": "code",
   "execution_count": 5,
   "metadata": {},
   "outputs": [],
   "source": [
    "def get_logreg_acc(equation):\n",
    "    y, X = dmatrices(equation, data=train, return_type='dataframe') \n",
    "\n",
    "\n",
    "    linreg = linear_model.LogisticRegression(\n",
    "        C=1e9, \n",
    "        fit_intercept=False, \n",
    "        solver='liblinear', \n",
    "        max_iter=1000000, \n",
    "        multi_class='auto', \n",
    "        penalty='l1'\n",
    "    ).fit(X, y.values.ravel())\n",
    "\n",
    "    y_true, X = dmatrices(equation, data=test, return_type='dataframe') \n",
    "    y_pred = linreg.predict(X)\n",
    "\n",
    "    return metrics.accuracy_score(y_true, y_pred)\n",
    "    "
   ]
  },
  {
   "cell_type": "code",
   "execution_count": 12,
   "metadata": {},
   "outputs": [
    {
     "name": "stdout",
     "output_type": "stream",
     "text": [
      "9\n",
      "0.3541666666666667 Cards ~ Gender + Limit + Income + Education + Age + Rating + Married + Ethnicity + Student\n",
      "0.3645833333333333 Cards ~ Gender + Limit + Income + Education + Age + Rating + Balance + Married + Student\n",
      "0.375 Cards ~ Gender + Limit + IncomeGreaterThan50_No + Income + Education + Age + Rating + Balance + Student\n",
      "0.3854166666666667 Cards ~ Gender + Limit + IncomeGreaterThan50_No + Income + Education + Age + Rating + Married + IncomeGreaterThan50_Yes\n",
      "10\n",
      "11\n"
     ]
    }
   ],
   "source": [
    "import itertools\n",
    "# 1\n",
    "# 0.2597402597402597 Cards ~ Income\n",
    "# 0.2857142857142857 Cards ~ Age\n",
    "# 0.3246753246753247 Cards ~ Married\n",
    "# 2\n",
    "# 0.37662337662337664 Cards ~ Rating + Limit\n",
    "# 3\n",
    "# 0.38961038961038963 Cards ~ Rating + IncomeGreaterThan50_No + Limit\n",
    "# 4\n",
    "# 0.42857142857142855 Cards ~ Income + Limit + Student + Balance\n",
    "# 5\n",
    "# 6\n",
    "# 7\n",
    "# 8\n",
    "\n",
    "predicted = 'Cards'\n",
    "# operators = '+ - * / : **'.split()\n",
    "features = 'Income Limit Rating Age Education Gender Student Married Ethnicity Balance IncomeGreaterThan50_No IncomeGreaterThan50_Yes'.split(' ')\n",
    "best_result, best_equation = 0, ''\n",
    "\n",
    "done = set()\n",
    "\n",
    "for i in range(9, len(features)):\n",
    "    print(i)\n",
    "    for comb in itertools.combinations(features, i):\n",
    "        comb = frozenset(comb)\n",
    "        if comb in done:\n",
    "            continue\n",
    "        done.add(comb)\n",
    "        with_operator = ' + '.join(comb)\n",
    "        equation = (f'{predicted} ~ {with_operator}')\n",
    "        result = get_logreg_acc(equation)\n",
    "        if result > best_result:\n",
    "            best_result = result\n",
    "            best_equation = equation\n",
    "            print(best_result, best_equation)\n",
    "    done = set()"
   ]
  }
 ],
 "metadata": {
  "kernelspec": {
   "display_name": "Python 3",
   "language": "python",
   "name": "python3"
  },
  "language_info": {
   "codemirror_mode": {
    "name": "ipython",
    "version": 3
   },
   "file_extension": ".py",
   "mimetype": "text/x-python",
   "name": "python",
   "nbconvert_exporter": "python",
   "pygments_lexer": "ipython3",
   "version": "3.7.5"
  }
 },
 "nbformat": 4,
 "nbformat_minor": 2
}
